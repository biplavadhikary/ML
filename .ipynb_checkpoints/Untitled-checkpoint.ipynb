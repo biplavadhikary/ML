{
 "cells": [
  {
   "cell_type": "code",
   "execution_count": 21,
   "metadata": {},
   "outputs": [
    {
     "data": {
      "text/plain": [
       "[['4'],\n",
       " ['H', '3', 'cat', 'beach', 'sun'],\n",
       " ['V', '2', 'selfie', 'smile'],\n",
       " ['V', '2', 'garden', 'selfie'],\n",
       " ['H', '2', 'garden', 'cat'],\n",
       " ['6'],\n",
       " ['H', '3', 'dog', 'beach', 'sun'],\n",
       " ['V', '2', 'selfie', 'smile'],\n",
       " ['V', '2', 'tree', 'nature'],\n",
       " ['H', '2', 'garden', 'cat']]"
      ]
     },
     "execution_count": 21,
     "metadata": {},
     "output_type": "execute_result"
    }
   ],
   "source": [
    "#Sample 1 - elucidating each step but not memory efficient\n",
    "lines = []\n",
    "with open(\"a_example.txt\") as file:\n",
    "    for line in file: \n",
    "        line = line.strip() #or some other preprocessing\n",
    "        lines.append(line.split(' ')) #storing everything in memory!\n",
    "lines"
   ]
  },
  {
   "cell_type": "code",
   "execution_count": 23,
   "metadata": {},
   "outputs": [],
   "source": [
    "m=int()\n",
    "while m<len(lines):\n",
    "    if m%5 is 0:\n",
    "        lines[m]=list(map(int,lines[m]))\n",
    "    m=m+1"
   ]
  },
  {
   "cell_type": "code",
   "execution_count": 24,
   "metadata": {},
   "outputs": [
    {
     "data": {
      "text/plain": [
       "[[4],\n",
       " ['H', '3', 'cat', 'beach', 'sun'],\n",
       " ['V', '2', 'selfie', 'smile'],\n",
       " ['V', '2', 'garden', 'selfie'],\n",
       " ['H', '2', 'garden', 'cat'],\n",
       " [6],\n",
       " ['H', '3', 'dog', 'beach', 'sun'],\n",
       " ['V', '2', 'selfie', 'smile'],\n",
       " ['V', '2', 'tree', 'nature'],\n",
       " ['H', '2', 'garden', 'cat']]"
      ]
     },
     "execution_count": 24,
     "metadata": {},
     "output_type": "execute_result"
    }
   ],
   "source": [
    "lines"
   ]
  },
  {
   "cell_type": "code",
   "execution_count": 25,
   "metadata": {},
   "outputs": [
    {
     "data": {
      "text/plain": [
       "['4',\n",
       " 'H 3 cat beach sun',\n",
       " 'V 2 selfie smile',\n",
       " 'V 2 garden selfie',\n",
       " 'H 2 garden cat',\n",
       " '6',\n",
       " 'H 3 dog beach sun',\n",
       " 'V 2 selfie smile',\n",
       " 'V 2 tree nature',\n",
       " 'H 2 garden cat']"
      ]
     },
     "execution_count": 25,
     "metadata": {},
     "output_type": "execute_result"
    }
   ],
   "source": [
    "#Sample 2 - a more pythonic and idiomatic way but still not memory efficient\n",
    "with open(\"a_example.txt\") as file:\n",
    "    lines = [line.strip() for line in file]\n",
    "    \n",
    "lines"
   ]
  }
 ],
 "metadata": {
  "kernelspec": {
   "display_name": "Python 3",
   "language": "python",
   "name": "python3"
  },
  "language_info": {
   "codemirror_mode": {
    "name": "ipython",
    "version": 3
   },
   "file_extension": ".py",
   "mimetype": "text/x-python",
   "name": "python",
   "nbconvert_exporter": "python",
   "pygments_lexer": "ipython3",
   "version": "3.7.1"
  }
 },
 "nbformat": 4,
 "nbformat_minor": 2
}
